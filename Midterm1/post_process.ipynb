{
 "cells": [
  {
   "cell_type": "code",
   "execution_count": 2,
   "metadata": {},
   "outputs": [],
   "source": [
    "import pandas as pd\n",
    "import numpy as np\n",
    "from sklearn.metrics import confusion_matrix"
   ]
  },
  {
   "cell_type": "code",
   "execution_count": 6,
   "metadata": {},
   "outputs": [],
   "source": [
    "pred = pd.read_csv('/home/dengfy/Midterm1/output/pred6.txt', header=None)\n",
    "pred45 = pd.read_csv('/home/dengfy/resnet1d-master/pred45/pred45_1.txt', header=None)\n",
    "prob45 = pd.read_csv('/home/dengfy/resnet1d-master/pred45/pred_prob45_1.txt', header=None)\n",
    "pred45.replace(2, 5, inplace=True)\n",
    "pred45.replace(1, 4, inplace=True)"
   ]
  },
  {
   "cell_type": "code",
   "execution_count": null,
   "metadata": {},
   "outputs": [],
   "source": [
    "index1 = np.where((pred[0]==5) | (pred[0]==4))[0]\n",
    "index2 = np.where(((pred45[0]==5) | (pred45[0]==4)))[0]\n",
    "index = np.intersect1d(index1, index2)\n",
    "confusion_matrix(pred[0][index], pred45[0][index])"
   ]
  },
  {
   "cell_type": "code",
   "execution_count": null,
   "metadata": {},
   "outputs": [],
   "source": [
    "pred1 = pred.copy()\n",
    "count = 0\n",
    "# principle: count around 10, prob around 0.8\n",
    "for idx in index:\n",
    "    # 6e-4\n",
    "    # stack + net (try epoch 5 no seed) -> pred2 977\n",
    "    # stack + net + adasyn epoch 9 0.9 7 -> pred3 ?\n",
    "    # pred3 + resnet + adasyn epoch 9 0.8 8 -> pred4 980\n",
    "    # 1e-3\n",
    "    # pred4 + net + adasyn + focal epoch 9 0.6 4 -> pred5 ? \n",
    "    # pred + resnet + adasyn + focal epoch 20 0.6 4 -> pred6 ?\n",
    "    if pred1[0][idx] == 5 and pred45[0][idx] ==4 and prob45[0][idx] > 0.8:\n",
    "        pred1[0][idx] = 4\n",
    "        count += 1\n",
    "print(count)  ## cant be too many, 5-10"
   ]
  },
  {
   "cell_type": "code",
   "execution_count": null,
   "metadata": {},
   "outputs": [],
   "source": [
    "pred2 = pred1.copy()\n",
    "\n",
    "import os\n",
    "with open('/home/dengfy/resnet1d-master/pred6.txt', \"w\") as f:\n",
    "    for i in pred2[0]:\n",
    "        f.write(str(i) + \"\\n\")\n",
    "with open('/home/dengfy/resnet1d-master/pred6.txt', \"rb+\") as f:\n",
    "    f.seek(-1, os.SEEK_END)\n",
    "    f.truncate()"
   ]
  }
 ],
 "metadata": {
  "kernelspec": {
   "display_name": "pytorch",
   "language": "python",
   "name": "python3"
  },
  "language_info": {
   "codemirror_mode": {
    "name": "ipython",
    "version": 3
   },
   "file_extension": ".py",
   "mimetype": "text/x-python",
   "name": "python",
   "nbconvert_exporter": "python",
   "pygments_lexer": "ipython3",
   "version": "3.8.16"
  },
  "orig_nbformat": 4
 },
 "nbformat": 4,
 "nbformat_minor": 2
}
